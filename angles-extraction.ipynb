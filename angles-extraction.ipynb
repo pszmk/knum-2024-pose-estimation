{
 "cells": [
  {
   "cell_type": "code",
   "execution_count": 2,
   "metadata": {
    "ExecuteTime": {
     "end_time": "2024-03-03T19:39:36.002172Z",
     "start_time": "2024-03-03T19:39:35.993195Z"
    }
   },
   "outputs": [],
   "source": [
    "import numpy as np\n",
    "import os\n",
    "from pathlib import Path\n",
    "import mediapipe as mp\n",
    "import cv2\n",
    "import random\n",
    "from PIL import Image\n",
    "from typing import Tuple\n",
    "import csv\n",
    "import pickle\n",
    "from tqdm import tqdm\n",
    "mp_pose = mp.solutions.pose\n",
    "\n",
    "current_working_dir = os.getcwd()\n",
    "GENERAL_DATA_PATH = Path(current_working_dir) / 'data'\n",
    "DATA_PATH = GENERAL_DATA_PATH"
   ]
  },
  {
   "cell_type": "code",
   "execution_count": 3,
   "metadata": {
    "ExecuteTime": {
     "end_time": "2024-03-03T19:39:40.819275Z",
     "start_time": "2024-03-03T19:39:40.811441Z"
    },
    "collapsed": false,
    "jupyter": {
     "outputs_hidden": false
    }
   },
   "outputs": [],
   "source": [
    "def calculate_angle(a,b,c):\n",
    "    a = np.array(a)\n",
    "    b = np.array(b) # middle\n",
    "    c = np.array(c)\n",
    "\n",
    "    radians = np.arctan2(c[1]-b[1], c[0]-b[0]) - np.arctan2(a[1]-b[1], a[0]-b[0])\n",
    "    angle = np.abs(radians*180.0/np.pi)\n",
    "\n",
    "    if(angle > 180):\n",
    "        angle = 360 - angle\n",
    "\n",
    "    return angle"
   ]
  },
  {
   "cell_type": "code",
   "execution_count": null,
   "metadata": {
    "collapsed": false,
    "jupyter": {
     "outputs_hidden": false
    }
   },
   "outputs": [],
   "source": []
  },
  {
   "cell_type": "code",
   "execution_count": 19,
   "metadata": {
    "ExecuteTime": {
     "end_time": "2024-03-03T20:55:00.636454Z",
     "start_time": "2024-03-03T20:55:00.603823Z"
    }
   },
   "outputs": [],
   "source": [
    "DATA_PATH = Path(current_working_dir)\n",
    "\n",
    "def get_image_numpy(image_file_name : str) -> np.ndarray:\n",
    "    return np.array(Image.open(DATA_PATH / 'Train' / image_file_name))\n",
    "\n",
    "def get_random_image_numpy() -> np.ndarray:\n",
    "    images = os.listdir(DATA_PATH / 'Train')\n",
    "    random_image_file_name = random.choice(images)\n",
    "    return get_image_numpy(random_image_file_name)\n",
    "\n",
    "class PoseExtractor():\n",
    "    extraction_output_len = 11\n",
    "    empty_extraction = [None for _ in range(4 * extraction_output_len)]\n",
    "    \n",
    "    def __init__(\n",
    "            self,\n",
    "            source_data_path : str,\n",
    "            destination_data_path : str,\n",
    "            model_complexity : int,\n",
    "            min_detection_confidence : float = 0.5\n",
    "            ) -> None:\n",
    "        self.keypoints_names = [\"left_elbow\", \"left_shoulder\", \"left_knee\", \"right_elbow\", \"right_shoulder\", \"right_knee\", \"body1\", \"body2\", \"body3\", \"body4\"]\n",
    "        self.source_data_path = Path(source_data_path)\n",
    "        self.destination_data_path = Path(destination_data_path)\n",
    "        self.pose = mp.solutions.pose.Pose(\n",
    "            static_image_mode=True,\n",
    "            model_complexity=model_complexity,\n",
    "            smooth_landmarks=True,\n",
    "            enable_segmentation=False,\n",
    "            smooth_segmentation=False,\n",
    "            min_detection_confidence=min_detection_confidence,\n",
    "            min_tracking_confidence=0.5\n",
    "        )\n",
    "    \n",
    "    @property\n",
    "    def columns_names(self) -> np.ndarray:\n",
    "        return self.keypoints_names\n",
    "\n",
    "    def load_image_as_ndarray(\n",
    "            self,\n",
    "            image_file_name : str,\n",
    "            train : bool\n",
    "            ) -> np.ndarray:\n",
    "        if train:\n",
    "            dataset_type = 'Train'\n",
    "        else:\n",
    "            dataset_type = 'Test'\n",
    "        \n",
    "        image = np.array(Image.open(self.source_data_path / dataset_type / image_file_name))\n",
    "\n",
    "        return image\n",
    "\n",
    "    def extract_pose(\n",
    "            self,\n",
    "            image: np.ndarray\n",
    "            ) -> Tuple:\n",
    "        pose_results = self.pose.process(image).pose_landmarks\n",
    "        if pose_results is None:\n",
    "            return None\n",
    "\n",
    "        landmarks = pose_results.landmark        \n",
    "\n",
    "        # Calculate angles\n",
    "\n",
    "        ## Angle 11-13-15\n",
    "        left_elbow = calculate_angle(\n",
    "            [landmarks[mp_pose.PoseLandmark.LEFT_SHOULDER.value].x, landmarks[mp_pose.PoseLandmark.LEFT_SHOULDER.value].y],\n",
    "            [landmarks[mp_pose.PoseLandmark.LEFT_ELBOW.value].x, landmarks[mp_pose.PoseLandmark.LEFT_ELBOW.value].y],\n",
    "            [landmarks[mp_pose.PoseLandmark.LEFT_WRIST.value].x, landmarks[mp_pose.PoseLandmark.LEFT_WRIST.value].y])\n",
    "\n",
    "        ## Angle 13-11-23\n",
    "        left_shoulder = calculate_angle(\n",
    "            [landmarks[mp_pose.PoseLandmark.LEFT_ELBOW.value].x, landmarks[mp_pose.PoseLandmark.LEFT_ELBOW.value].y],\n",
    "            [landmarks[mp_pose.PoseLandmark.LEFT_SHOULDER.value].x, landmarks[mp_pose.PoseLandmark.LEFT_SHOULDER.value].y],\n",
    "            [landmarks[mp_pose.PoseLandmark.LEFT_HIP.value].x, landmarks[mp_pose.PoseLandmark.LEFT_HIP.value].y])\n",
    "\n",
    "        ## Angle 23-25-27\n",
    "        left_knee = calculate_angle(\n",
    "            [landmarks[mp_pose.PoseLandmark.LEFT_HIP.value].x, landmarks[mp_pose.PoseLandmark.LEFT_HIP.value].y],\n",
    "            [landmarks[mp_pose.PoseLandmark.LEFT_KNEE.value].x, landmarks[mp_pose.PoseLandmark.LEFT_KNEE.value].y],\n",
    "            [landmarks[mp_pose.PoseLandmark.LEFT_ANKLE.value].x, landmarks[mp_pose.PoseLandmark.LEFT_ANKLE.value].y])\n",
    "\n",
    "        ## Angle 12-14-16\n",
    "        right_elbow = calculate_angle(\n",
    "            [landmarks[mp_pose.PoseLandmark.RIGHT_SHOULDER.value].x, landmarks[mp_pose.PoseLandmark.RIGHT_SHOULDER.value].y],\n",
    "            [landmarks[mp_pose.PoseLandmark.RIGHT_ELBOW.value].x, landmarks[mp_pose.PoseLandmark.RIGHT_ELBOW.value].y],\n",
    "            [landmarks[mp_pose.PoseLandmark.RIGHT_WRIST.value].x, landmarks[mp_pose.PoseLandmark.RIGHT_WRIST.value].y])\n",
    "\n",
    "        ## Angle 14-12-24\n",
    "        right_shoulder = calculate_angle(\n",
    "            [landmarks[mp_pose.PoseLandmark.RIGHT_ELBOW.value].x, landmarks[mp_pose.PoseLandmark.RIGHT_ELBOW.value].y],\n",
    "            [landmarks[mp_pose.PoseLandmark.RIGHT_SHOULDER.value].x, landmarks[mp_pose.PoseLandmark.RIGHT_SHOULDER.value].y],\n",
    "            [landmarks[mp_pose.PoseLandmark.RIGHT_HIP.value].x, landmarks[mp_pose.PoseLandmark.RIGHT_HIP.value].y])\n",
    "\n",
    "        ## Angle 24-26-28\n",
    "        right_knee = calculate_angle(\n",
    "            [landmarks[mp_pose.PoseLandmark.RIGHT_HIP.value].x, landmarks[mp_pose.PoseLandmark.RIGHT_HIP.value].y],\n",
    "            [landmarks[mp_pose.PoseLandmark.RIGHT_KNEE.value].x, landmarks[mp_pose.PoseLandmark.RIGHT_KNEE.value].y],\n",
    "            [landmarks[mp_pose.PoseLandmark.RIGHT_ANKLE.value].x, landmarks[mp_pose.PoseLandmark.RIGHT_ANKLE.value].y])\n",
    "\n",
    "        ## Angle 12-11-23\n",
    "        body1 = calculate_angle(\n",
    "            [landmarks[mp_pose.PoseLandmark.RIGHT_SHOULDER.value].x, landmarks[mp_pose.PoseLandmark.RIGHT_SHOULDER.value].y],\n",
    "            [landmarks[mp_pose.PoseLandmark.LEFT_SHOULDER.value].x, landmarks[mp_pose.PoseLandmark.LEFT_SHOULDER.value].y],\n",
    "            [landmarks[mp_pose.PoseLandmark.LEFT_HIP.value].x, landmarks[mp_pose.PoseLandmark.LEFT_HIP.value].y])\n",
    "\n",
    "        ## Angle 11-12-24\n",
    "        body2 = calculate_angle(\n",
    "            [landmarks[mp_pose.PoseLandmark.LEFT_SHOULDER.value].x, landmarks[mp_pose.PoseLandmark.LEFT_SHOULDER.value].y],\n",
    "            [landmarks[mp_pose.PoseLandmark.RIGHT_SHOULDER.value].x, landmarks[mp_pose.PoseLandmark.RIGHT_SHOULDER.value].y],\n",
    "            [landmarks[mp_pose.PoseLandmark.RIGHT_HIP.value].x, landmarks[mp_pose.PoseLandmark.RIGHT_HIP.value].y])\n",
    "\n",
    "        ## Angle 11-23-24\n",
    "        body3 = calculate_angle(\n",
    "            [landmarks[mp_pose.PoseLandmark.LEFT_SHOULDER.value].x, landmarks[mp_pose.PoseLandmark.LEFT_SHOULDER.value].y],\n",
    "            [landmarks[mp_pose.PoseLandmark.LEFT_HIP.value].x, landmarks[mp_pose.PoseLandmark.LEFT_HIP.value].y],\n",
    "            [landmarks[mp_pose.PoseLandmark.RIGHT_HIP.value].x, landmarks[mp_pose.PoseLandmark.RIGHT_HIP.value].y])\n",
    "\n",
    "        ## Angle 12-24-23\n",
    "        body4 = calculate_angle(\n",
    "            [landmarks[mp_pose.PoseLandmark.RIGHT_SHOULDER.value].x, landmarks[mp_pose.PoseLandmark.RIGHT_SHOULDER.value].y],\n",
    "            [landmarks[mp_pose.PoseLandmark.RIGHT_HIP.value].x, landmarks[mp_pose.PoseLandmark.RIGHT_HIP.value].y],\n",
    "            [landmarks[mp_pose.PoseLandmark.LEFT_HIP.value].x, landmarks[mp_pose.PoseLandmark.LEFT_HIP.value].y])\n",
    "\n",
    "        return [left_elbow, left_shoulder, right_elbow, right_shoulder, left_knee, right_knee, body1, body2, body3, body4]\n",
    "    \n",
    "    def gray_to_rgb(self, image: np.ndarray) -> np.ndarray:\n",
    "        return cv2.cvtColor(image, cv2.COLOR_GRAY2RGB)\n",
    "\n",
    "    def extract_poses_and_write_to_csv(\n",
    "            self,\n",
    "            save_file_name : str,\n",
    "            sample : bool,\n",
    "            train : bool = True,\n",
    "            n_samples : int = 1,\n",
    "            delimiter : str = ';'\n",
    "            ) -> None:\n",
    "        if train:\n",
    "            images = os.listdir(self.source_data_path / 'Train')\n",
    "        else:\n",
    "            images = os.listdir(self.source_data_path / 'Test')\n",
    "        \n",
    "        if sample:\n",
    "            images = random.sample(images, n_samples)\n",
    "        \n",
    "        with open(self.destination_data_path / save_file_name, 'w', newline='') as write_file:\n",
    "            writer = csv.writer(write_file, delimiter=delimiter)\n",
    "            writer.writerow(['name'] + self.columns_names)\n",
    "            \n",
    "            data_rows = []\n",
    "            \n",
    "            for image_filename in tqdm(images):\n",
    "                image = self.load_image_as_ndarray(image_filename, train)\n",
    "                name = os.path.basename(image_filename)\n",
    "                \n",
    "                if len(image.shape) < 3:\n",
    "                    image = self.gray_to_rgb(image)\n",
    "                extracted_pose = None\n",
    "                \n",
    "                if image.shape[2] == 3:\n",
    "                    extracted_pose = self.extract_pose(image)\n",
    "\n",
    "                if extracted_pose is not None:\n",
    "                    data_rows.append([name] + extracted_pose)  # Include the image filename in the row\n",
    "                else:\n",
    "                    data_rows.append([name] + self.empty_extraction)\n",
    "            \n",
    "            writer.writerows(data_rows)"
   ]
  },
  {
   "cell_type": "code",
   "execution_count": 20,
   "metadata": {
    "ExecuteTime": {
     "end_time": "2024-03-03T20:55:03.630104Z",
     "start_time": "2024-03-03T20:55:03.518151Z"
    }
   },
   "outputs": [],
   "source": [
    "pose_extractor = PoseExtractor(\n",
    "    source_data_path=DATA_PATH,\n",
    "    destination_data_path=GENERAL_DATA_PATH,\n",
    "    model_complexity=1\n",
    ")"
   ]
  },
  {
   "cell_type": "code",
   "execution_count": 15,
   "metadata": {
    "ExecuteTime": {
     "end_time": "2024-03-03T20:47:08.606306Z",
     "start_time": "2024-03-03T20:24:51.999522Z"
    }
   },
   "outputs": [
    {
     "name": "stderr",
     "output_type": "stream",
     "text": [
      "100%|██████████| 12690/12690 [22:16<00:00,  9.50it/s] \n"
     ]
    }
   ],
   "source": [
    "data_rows = pose_extractor.extract_poses_and_write_to_csv(\n",
    "    sample=False,\n",
    "    train=True,\n",
    "    save_file_name='angles-train.csv',\n",
    "    )"
   ]
  },
  {
   "cell_type": "code",
   "execution_count": 22,
   "metadata": {
    "ExecuteTime": {
     "end_time": "2024-03-03T21:02:04.604382Z",
     "start_time": "2024-03-03T20:55:34.453598Z"
    },
    "collapsed": false,
    "jupyter": {
     "outputs_hidden": false
    }
   },
   "outputs": [
    {
     "name": "stderr",
     "output_type": "stream",
     "text": [
      "100%|██████████| 4232/4232 [06:30<00:00, 10.85it/s]\n"
     ]
    }
   ],
   "source": [
    "data_rows = pose_extractor.extract_poses_and_write_to_csv(\n",
    "    sample=False,\n",
    "    train=False,\n",
    "    save_file_name='angles-test.csv',\n",
    ")"
   ]
  },
  {
   "cell_type": "code",
   "execution_count": null,
   "metadata": {
    "collapsed": false,
    "jupyter": {
     "outputs_hidden": false
    }
   },
   "outputs": [],
   "source": []
  }
 ],
 "metadata": {
  "kernelspec": {
   "display_name": "Python 3 (ipykernel)",
   "language": "python",
   "name": "python3"
  },
  "language_info": {
   "codemirror_mode": {
    "name": "ipython",
    "version": 3
   },
   "file_extension": ".py",
   "mimetype": "text/x-python",
   "name": "python",
   "nbconvert_exporter": "python",
   "pygments_lexer": "ipython3",
   "version": "3.11.5"
  }
 },
 "nbformat": 4,
 "nbformat_minor": 4
}
